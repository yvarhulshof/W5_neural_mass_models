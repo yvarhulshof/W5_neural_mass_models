{
  "cells": [
    {
      "cell_type": "markdown",
      "metadata": {
        "id": "orqegl7YhY8N"
      },
      "source": [
        "# Session 5: Neural Mass Models"
      ]
    },
    {
      "cell_type": "code",
      "execution_count": 3,
      "metadata": {
        "id": "kyuDeQaShY8R"
      },
      "outputs": [],
      "source": [
        "import numpy as np\n",
        "import matplotlib.pyplot as plt\n",
        "from copy import copy"
      ]
    },
    {
      "cell_type": "markdown",
      "metadata": {
        "id": "yPF85LnPhY8U"
      },
      "source": [
        "## About this tutorial\n",
        "In this tutorial, you will play around with the neural mass models covered in lecture 5: the Wilson-Cowan model, the Kuramoto oscillator model and the  Hopfield network.\n",
        "\n"
      ]
    },
    {
      "cell_type": "markdown",
      "source": [
        "## Wilson-Cowan model\n",
        "\n",
        "The Wilson–Cowan model describes the dynamics of interactions between populations of simple excitatory and inhibitory neurons. Specifically, it consits of two coupled differential equations that describe the time evolution of the proportion of active neurons in the excitatory $(E)$ and inhibitory $(I)$ populations. Here we will use the equations presented below which ever so slightly differ from those in the lecture.\n",
        "\n",
        "$$\n",
        "\\begin{array}{}\n",
        "\\tau_e \\dot E &= -E + \\left( k_e - rE \\right) &\\sigma \\left( w_{ee} E - w_{ei} I +P_e \\right) \\\\\n",
        "\\tau_i \\dot I &= -I + \\left( k_i - rI \\right) &\\sigma \\left( w_{ie} E - w_{ii} I +P_i \\right)\n",
        "\\end{array}.\n",
        "$$\n",
        "\n",
        "In these equations, $\\tau_e$ $(\\tau_i)$ is the time constant of the excitatory (inhibitory) population, $k_e$ $(k_i)$  is the maximum response of the excitatory (inhibitory) population, $r$ is the refractory period, $w_{ab}$ are weights between populations $a$ and $b$, $P_e$ $(P_i)$ is the external input to the excitatory (inhibitory) populations and $\\sigma(\\cdot)$ is a sigmoidal activation function:\n",
        "\n",
        "$$\n",
        "\\sigma(x) = \\frac{1}{1+e^{-\\alpha (x-\\theta)}}\n",
        "$$\n",
        "\n",
        "where $\\alpha$ controls the maximum slope and $\\theta$ controls the location of the inflection point.\n",
        "\n",
        "### Phase-plane analysis\n",
        "\n",
        "Perform a phase-plane analysis of the Wilson-Cowan system using the following parameter values.\n",
        "\n",
        "| Parameter|Value|Description|\n",
        "|:---|:---|---|\n",
        "|$r$| $1$|refractory period|\n",
        "|$k_e$| $0.97$|maximum response of excitatory population|\n",
        "|$k_i$| $0.98$|maximum response of inhibitory population|\n",
        "|$\\tau_e$| $1$|time constant excitatory population|\n",
        "|$\\tau_i$| $1$|time constant inhibitory population|\n",
        "|$w_{ee}$| $12$| weight between excitatory neurons|\n",
        "|$w_{ei}$| $4$| synaptic weight from inhibitory to excitatory population|\n",
        "|$w_{ie}$| $13$| synaptic weight from excitatory to inhibitory population|\n",
        "|$w_{ii}$| $11$| synaptic weight between inhibitory neurons|\n",
        "|$P_{e}$| $0$| input to excitatory population|\n",
        "|$P_{i}$| $0$| input to inhibitory population|\n",
        "|$\\alpha_{e}$| $1.2$| slope excitatory population|\n",
        "|$\\alpha_{i}$| $1$| slope inhibitory population|\n",
        "|$\\theta_{e}$| $2.8$| location of inflection point excitatory population|\n",
        "|$\\theta_{i}$| $4$| location of inflection point inhibitory population|\n",
        "\n",
        "**Task 1**: Obtain the inverse of the sigmoid function $\\sigma^{-1}( \\cdot)$"
      ],
      "metadata": {
        "id": "P8TbUSwZrzL-"
      }
    },
    {
      "cell_type": "markdown",
      "source": [],
      "metadata": {
        "id": "EuijX2eKq4mm"
      }
    },
    {
      "cell_type": "markdown",
      "source": [
        "**Task 2**: Obtain the Nullclines for $\\dot E$ and $\\dot I$. Note that it is easier to solve $\\dot E = 0$ for $I$ than for $E$. Similarly, it is easier to solve $\\dot I = 0$ for $E$ than for $I$."
      ],
      "metadata": {
        "id": "6Va3TGj5rLIp"
      }
    },
    {
      "cell_type": "markdown",
      "source": [],
      "metadata": {
        "id": "2bFqbk71XcI9"
      }
    },
    {
      "cell_type": "markdown",
      "source": [
        "**Task 3**: Draw a phase portrait of the Wilson-Cowan model.\n",
        "\n"
      ],
      "metadata": {
        "id": "MGC7Gu-gHwrd"
      }
    },
    {
      "cell_type": "code",
      "source": [
        "r = 1\n",
        "ke = 0.97\n",
        "ki = 0.98\n",
        "wee = 12\n",
        "wei = 4\n",
        "wie = 13\n",
        "wii = 11\n",
        "\n",
        "Pe = 0\n",
        "Pi = 0\n",
        "alpha_e =1.2\n",
        "alpha_i = 1\n",
        "theta_e = 2.8\n",
        "theta_i = 4\n",
        "     \n",
        "sigma = lambda x, alpha, theta: 1 / (1 + np.exp( -alpha * (x - theta) ))\n",
        "sigma_inv = lambda x, alpha, theta: -np.log(1 / x - 1) / alpha + theta\n",
        "              \n",
        "EI_vals = np.linspace(0, 0.5, 21)\n",
        "I, E = np.meshgrid(EI_vals, EI_vals)\n",
        "E = np.flip(E, axis=0)\n",
        "\n",
        "## compute gradient for vector field\n",
        "# ---- your code here ---- #\n",
        "\n",
        "\n",
        "## compute Nullclines\n",
        "# ---- your code here ---- #\n",
        "\n",
        "\n",
        "## plotting\n",
        "magnitude = np.sqrt(dE**2 + dI**2)\n",
        "plt.quiver(I, E, dI / magnitude, dE / magnitude, magnitude)\n",
        "plt.plot(i, EI_vals, 'b', label='$dE/dt = 0$')\n",
        "plt.plot(EI_vals, e, 'r', label='$dI/dt = 0$')\n",
        "plt.xlim([0, 0.5])\n",
        "plt.ylim([0, 0.5])\n",
        "plt.xlabel('$I$')\n",
        "plt.ylabel('$E$')\n",
        "plt.legend()"
      ],
      "metadata": {
        "id": "eG_NzYWBSOO3"
      },
      "execution_count": null,
      "outputs": []
    },
    {
      "cell_type": "markdown",
      "source": [
        "## Kuramoto oscillators\n",
        "The Kuramoto model is describes the behavior of a (potentially large) set of coupled oscillators and used to study synchronization phenomena.\n",
        "\n",
        "### Arnold tongue\n",
        "\n",
        "Consider a system of two coupled oscillators:\n",
        "\n",
        "$$\n",
        "\\begin{array}{}\n",
        "\\dot \\theta_1 &= \\omega_1 + \\frac{k}{2} \\sin \\left(\\theta_2 - \\theta_1 \\right)  \\\\\n",
        "\\dot \\theta_2 &= \\omega_2 + \\frac{k}{2} \\sin \\left(\\theta_1 - \\theta_2 \\right) \n",
        "\\end{array}.\n",
        "$$\n",
        "\n",
        "We can define phase offset $\\Theta = \\theta_2 - \\theta_1$\n",
        "\n",
        "**Task 1**: Formulate a differential equation that describes the evolution of $\\Theta$."
      ],
      "metadata": {
        "id": "yP4IqhLxwfKm"
      }
    },
    {
      "cell_type": "markdown",
      "source": [],
      "metadata": {
        "id": "6e_96kdW2DOs"
      }
    },
    {
      "cell_type": "markdown",
      "source": [
        "**Task 2**: Find the critical coupling value $(k_c)$.\n",
        "\n",
        "Hint: if coupling is equal to or larger than the critical value, then the phase offset should no longer change."
      ],
      "metadata": {
        "id": "SmeRrZo62Dja"
      }
    },
    {
      "cell_type": "markdown",
      "source": [],
      "metadata": {
        "id": "55BvoMnn2jjW"
      }
    },
    {
      "cell_type": "markdown",
      "source": [
        "**Task 3**: Display the phase offset and synchrony for different values of coupling $(k)$ and detuning $(\\Delta \\omega = \\omega_2 - \\omega_1)$.\n",
        "\n",
        "Hint: it is possible to do this by simulating the system of two coupled oscillators for each combination of $\\Delta \\omega$ and $k$ or by simulating the phase offset or to find the results analytically."
      ],
      "metadata": {
        "id": "PbZeSB9j2jze"
      }
    },
    {
      "cell_type": "code",
      "source": [
        "dw = np.linspace(-5,5,100)\n",
        "k = np.linspace(0.01, 5,100)\n",
        "\n",
        "DW, K = np.meshgrid(dw,k)\n",
        "K = np.flip(K,axis=0)\n",
        "\n",
        "# ---- your code here ---- #\n",
        "'''\n",
        "phase_offset = \n",
        "synch = \n",
        "'''\n",
        "\n",
        "plt.subplot(1,2,1)\n",
        "plt.imshow(synch,extent=[-5,5,0,5], cmap='gray')\n",
        "plt.plot(dw, np.abs(dw),'r--')\n",
        "plt.xlabel('$\\Delta \\omega$')\n",
        "plt.ylabel('$k$')\n",
        "plt.title('synchrony (binary)')\n",
        "plt.subplot(1,2,2)\n",
        "plt.imshow(phase_offset,extent=[-5,5,0,5], cmap='jet')\n",
        "plt.plot(dw, np.abs(dw),'k--')\n",
        "plt.xlabel('$\\Delta \\omega$')\n",
        "plt.ylabel('$k$')\n",
        "plt.title('phase offset')\n",
        "plt.tight_layout()"
      ],
      "metadata": {
        "id": "wmd5qL5p3yQg"
      },
      "execution_count": null,
      "outputs": []
    },
    {
      "cell_type": "markdown",
      "source": [
        "## Hopfield network \n",
        "\n",
        "A Hopfield network is a form of recurrent artificial neural network that serves as content-addressable (\"associative\") memory system with binary threshold nodes (spins).\n",
        "\n",
        "### Imprinting memories\n",
        "Generate $M=5$ patterns where each pattern $\\mu$ is a string of $N$ binary numbers $\\left\\lbrace p_i^{\\mu } =\\pm 1;1\\le i\\le N\\right\\rbrace$ with expected value $\\left\\langle p_i^{\\mu } \\right\\rangle =0$; i.e., $P(p^{\\mu}_i = 1) = P(p^{\\mu}_i = -1) = 0.5$. "
      ],
      "metadata": {
        "id": "O9MiImfUrv9d"
      }
    },
    {
      "cell_type": "code",
      "execution_count": null,
      "metadata": {
        "id": "WQFVUyOmhY8X"
      },
      "outputs": [],
      "source": [
        "# ---- your code here ---- #"
      ]
    },
    {
      "cell_type": "markdown",
      "metadata": {
        "id": "-CiW8wC-hY8X"
      },
      "source": [
        "Store these patterns in a weight matrix $\\mathbf{W}$ whose elements are given by\n",
        "\n",
        "$$\n",
        "w_{ij}=\\frac{1}{N}\\sum_{\\mu=1}^Mp^{\\mu}_ip^{\\mu}_j\n",
        "$$"
      ]
    },
    {
      "cell_type": "code",
      "execution_count": null,
      "metadata": {
        "id": "quO65ffKhY8Z"
      },
      "outputs": [],
      "source": [
        "# ---- your code here ---- #"
      ]
    },
    {
      "cell_type": "markdown",
      "metadata": {
        "id": "wSD29aFmhY8a"
      },
      "source": [
        "### Energy & memory recall\n",
        "Generate a cue for pattern $\\mu = 3$ and use it to intialize the network state $S_0$. The cue should be such that the overlap between $S_0$ and $p^{\\mu=3}$ is $\\sim0.5$."
      ]
    },
    {
      "cell_type": "code",
      "execution_count": null,
      "metadata": {
        "id": "qu6N4LakhY8b"
      },
      "outputs": [],
      "source": [
        "# ---- your code here ---- #"
      ]
    },
    {
      "cell_type": "markdown",
      "metadata": {
        "id": "5nnHXde0hY8c"
      },
      "source": [
        "Let the Hopfield network evolve for $500$ iterations and record both the overlap between $p^{\\mu=3}$ and the current state $s$ as well as the energy for each iteration. Use an asynchronous updating scheme: update only a single, randomly selected, unit within each iteration. Update according to\n",
        "\n",
        "$$\n",
        "s_i =\\mathrm{sgn}\\left\\lbrack \\sum_{j=1}^N w_{\\mathrm{ij}} s_j -\\theta \\right\\rbrack\n",
        "$$"
      ]
    },
    {
      "cell_type": "code",
      "execution_count": null,
      "metadata": {
        "id": "ZPI975VchY8f"
      },
      "outputs": [],
      "source": [
        "theta = 0              # threshold\n",
        "\n",
        "iterations = 500\n",
        "energy = np.zeros(iterations)\n",
        "overlap = np.zeros(iterations)\n",
        "\n",
        "S = copy(S0)\n",
        "\n",
        "'''\n",
        "your code here\n",
        "'''\n",
        "\n",
        "\n",
        "# plotting\n",
        "plt.figure()\n",
        "plt.subplot(1,2,1)\n",
        "plt.plot(energy)\n",
        "plt.title('energy')\n",
        "plt.xlabel('iteration')\n",
        "\n",
        "plt.subplot(1,2,2)\n",
        "plt.plot(overlap)\n",
        "plt.title('overlap')\n",
        "plt.xlabel('iteration')"
      ]
    },
    {
      "cell_type": "markdown",
      "metadata": {
        "id": "VvHA1li0hY8h"
      },
      "source": [
        "**Question**: What happens with energy and overlap as you change the threshold? How does this depend on pattern 3?"
      ]
    }
  ],
  "metadata": {
    "kernelspec": {
      "display_name": "Python 3",
      "language": "python",
      "name": "python3"
    },
    "language_info": {
      "codemirror_mode": {
        "name": "ipython",
        "version": 3
      },
      "file_extension": ".py",
      "mimetype": "text/x-python",
      "name": "python",
      "nbconvert_exporter": "python",
      "pygments_lexer": "ipython3",
      "version": "3.8.5"
    },
    "colab": {
      "provenance": []
    }
  },
  "nbformat": 4,
  "nbformat_minor": 0
}